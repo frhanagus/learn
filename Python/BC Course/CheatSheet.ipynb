{
 "cells": [
  {
   "cell_type": "code",
   "execution_count": null,
   "metadata": {},
   "outputs": [],
   "source": [
    "# : untuk membooking tempat, meratakan di sebelah kiri\n",
    "import random as r\n",
    "for i in range (1,13):\n",
    "    revenue = r.randint(1,50)\n",
    "    print (f'{i:3}{\"#\"*revenue}{revenue}') \n",
    "\n",
    "#.xf untuk menambah angka 0 sebanyak x sesudah koma\n",
    "num = 23894\n",
    "print (f'{num:.1f}') \n",
    "\n",
    "# : -x untuk meratakan di sebelah kanan\n",
    "# ternyata tidak bisa di python"
   ]
  },
  {
   "cell_type": "code",
   "execution_count": 1,
   "metadata": {},
   "outputs": [
    {
     "name": "stdout",
     "output_type": "stream",
     "text": [
      "True\n",
      "False\n",
      "True\n",
      "False\n"
     ]
    }
   ],
   "source": [
    "# operator in \n",
    "# untuk mencari bagian dari string dari string\n",
    "nama = \"Farhan\"\n",
    "word1 = \"Farhan\"\n",
    "word2 = \"farhan\"\n",
    "word3 = \"han\"\n",
    "word4 = \"Han\"\n",
    "\n",
    "print (word1 in nama)\n",
    "print (word2 in nama)\n",
    "print (word3 in nama)\n",
    "print (word4 in nama)"
   ]
  },
  {
   "cell_type": "code",
   "execution_count": null,
   "metadata": {},
   "outputs": [],
   "source": [
    "# Built-in String Function\n",
    "chr() # Converts an integer (ASCII) to a character\n",
    "ord() # Converts a character to an integer (ASCII)\n",
    "len() # Returns the length of a string\n",
    "str() # Returns a string representation of an object"
   ]
  },
  {
   "cell_type": "code",
   "execution_count": null,
   "metadata": {},
   "outputs": [],
   "source": [
    "# object.function\n",
    "center() # menengahkah\n",
    "rjust() # menganankan\n",
    "replace() # mengganti karakter -> s.replace('a', 'b')\n",
    "strip() # menghapus spasi di depan\n",
    "isalpha() # mengecek apakah alphabet"
   ]
  },
  {
   "cell_type": "code",
   "execution_count": 8,
   "metadata": {},
   "outputs": [
    {
     "name": "stdout",
     "output_type": "stream",
     "text": [
      "h\n",
      "wa\n",
      "wa\n",
      "hyu\n"
     ]
    }
   ],
   "source": [
    "# string indexing\n",
    "gw = \"wahyu\"\n",
    "print(gw[2])\n",
    "\n",
    "# string slicing\n",
    "print(gw[0:2])\n",
    "print(gw[:2])\n",
    "print(gw[2:])"
   ]
  }
 ],
 "metadata": {
  "kernelspec": {
   "display_name": "Python 3",
   "language": "python",
   "name": "python3"
  },
  "language_info": {
   "codemirror_mode": {
    "name": "ipython",
    "version": 3
   },
   "file_extension": ".py",
   "mimetype": "text/x-python",
   "name": "python",
   "nbconvert_exporter": "python",
   "pygments_lexer": "ipython3",
   "version": "3.11.8"
  }
 },
 "nbformat": 4,
 "nbformat_minor": 2
}
