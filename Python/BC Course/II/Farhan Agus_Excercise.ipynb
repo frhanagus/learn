{
 "cells": [
  {
   "cell_type": "code",
   "execution_count": null,
   "metadata": {},
   "outputs": [],
   "source": [
    "#1\n",
    "Code yang diberikan adalah sebuah program pendeteksi plat nomor ganjil genap, dan maksud dari tiap line adalah:\n",
    "line 1 : date didefinisikan sebagai sebuah input tanggal dengan tipe data integer yang akan dimasukkan oleh user\n",
    "line 2 : license didefinisikan sebagai sebuah input nomor plat kendaraan dengan tipe data integer yang akan dimasukkan oleh user\n",
    "line 4 & 5 : sebuah fungsi if, yang berisi syarat :jika sisa bagi dari tanggal dan nomor plat kendaraan ketika dibagi oleh 2 adalah sama, maka akan keluar output \"You may cross the odd-even road\" yang berarti kendaraan diperbolehkan untuk lewat\n",
    "line 6 & 7 : lanjutan dari fungsi if diatas, else yang berarti jika syarat di if tidak terpenuhi maka akan keluar output \"You may not cross the odd-even road\" yang berarti kendaraan tidak diperbolehkan untuk lewat\n"
   ]
  },
  {
   "cell_type": "code",
   "execution_count": null,
   "metadata": {},
   "outputs": [],
   "source": [
    "#2 Mengidentifikasi jenis segitiga\n",
    "print(\"Segitiga apakah aku?\")\n",
    "\n",
    "s1, s2, s3 = input(\"Masukkan panjang ketiga sisi segitiga: \",).split(' ')\n",
    "sd1, sd2, sd3 = input(\"Masukkan besar ketiga sudut segitiga\\n(dalam derajat): \",).split(' ')\n",
    "\n",
    "sdt1, sdt2, sdt3 = float(sd1), float(sd2), float(sd3)\n",
    "\n",
    "if s1 == s2 == s3 and sd1 == sd2 == sd3 == str(60):\n",
    "    print (\"aku adalah segitiga sama sisi\")\n",
    "elif s1 == s2 or s2 == s3 or s1 == s3 and sd1 == sd2 or sd2 == sd3 or sd1 == sd3:\n",
    "    print (\"aku adalah segitiga sama kaki\")\n",
    "elif sdt1 + sdt2 + sdt3 != float(180):\n",
    "    print (\"sudut yang anda masukkan salah:(\")\n",
    "else : print (\"aku adalah segitiga sembarang\")"
   ]
  },
  {
   "cell_type": "code",
   "execution_count": null,
   "metadata": {},
   "outputs": [],
   "source": [
    "#3 Menentukan apakah input adalah tahun kabisat\n",
    "tahun = int(input(\"Masukkan Tahun: \"))\n",
    "\n",
    "if tahun%4 == 0 and tahun%100 != 0 or tahun%400 == 0:\n",
    "    print (f'Tahun', tahun, \"adalah tahun kabisat\")\n",
    "else : print (f'Tahun', tahun, \"bukanlah tahun kabisat\")\n"
   ]
  },
  {
   "cell_type": "code",
   "execution_count": null,
   "metadata": {},
   "outputs": [],
   "source": [
    "#4 Menentukan luas atau keliling persegi panjang\n",
    "user = input(\"Pilih 'luas' atau 'keliling': \").lower()\n",
    "\n",
    "if user == \"luas\" :\n",
    "    p = float(input(\"Masukkan panjang persegi panjang: \"))\n",
    "    l = float(input(\"Masukkan lebar persegi panjang: \"))\n",
    "    print (f'Luas persegi panjang: ', p*l)\n",
    "elif user == \"keliling\" :\n",
    "    print (f'Keliling persegi panjang: ', 2*(p+l))\n",
    "    p = float(input(\"Masukkan panjang persegi panjang: \"))\n",
    "    l = float(input(\"Masukkan lebar persegi panjang: \"))\n",
    "else : print (\"itu tidak ada di pilihan:(\")\n"
   ]
  },
  {
   "cell_type": "code",
   "execution_count": null,
   "metadata": {},
   "outputs": [],
   "source": [
    "#5\n",
    "Code yang diberikan adalah sebuah program untuk bermain permainan Rock Paper Scissors atau bisa disebut Batu kertas Gunting, dan maksud dari tiap line adalah:\n",
    "line 3 : import random digunakan untuk meng impor library random dari database python\n",
    "line 4 : human didefinisikan sebagai input data berupa integer yang akan dimasukkan oleh user dengan keterangan: 1 untuk melempar Rock, 2 untuk melempar Paper, dan 3 untuk melempar Scissors\n",
    "line 5-10 : berisi fungsi if yang digunakan untuk mengeluarkan output berupa \"You threw 'apa yang user pilih' \". Dengan kondisi jika input human adalah 1, akan keluar \"You threw Rock\". Jika input human adalah 2, akan keluar \"You threw Paper\". Dan jika input human adalah apapun selain 1 dan 2 maka akan kelaur \"You threw Scissors\"\n",
    "line 12 : comp didefinisikan sebagai perintah untuk komputer agar me-random angka dalam range 1 sampai 3 \n",
    "line 13-18 : berisi fungsi if yang digunakan untuk mengeluarkan output berupa \"Computer threw 'hasil random' \". Dengan kondisi jika comp adalah 1, akan keluar \"Computer threw Rock\". Jika comp adalah 2, akan keluar \"Computer threw Paper\". Dan jika comp adalah apapun selain 1 dan 2 maka akan kelaur \"Computer threw Scissors\"\n",
    "line 20-21 : berisi fungsi if yang bersyarat : jika human = comp maka hasilnya seri, dikondisikan dengan output \"It's a tie!\"\n",
    "line 22-23 : lanjutan fungsi if, yaitu elif dengan syarat tambahan jika human = 1 dan computer = 3, atau jika human = 2 dan computer = 1, jika human = 3 dan computer = 2. Maka human akan menang, dan keluar output \"You Win!\"\n",
    "line 24-25 : lanjutan fungsi if, yaitu else dengan syarat jika kedua kondisi diatas tidak terpenuhi maka komputer menang dan ada output \"Computer Wins!\""
   ]
  }
 ],
 "metadata": {
  "language_info": {
   "name": "python"
  }
 },
 "nbformat": 4,
 "nbformat_minor": 2
}
